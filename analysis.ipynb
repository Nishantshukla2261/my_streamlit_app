{
 "cells": [
  {
   "cell_type": "code",
   "execution_count": 14,
   "metadata": {},
   "outputs": [],
   "source": [
    "import pandas as pd\n",
    "import numpy as np\n",
    "import plotly.express as px\n",
    "import matplotlib.pyplot as plt\n",
    "import seaborn as sns"
   ]
  },
  {
   "cell_type": "code",
   "execution_count": 3,
   "metadata": {},
   "outputs": [
    {
     "data": {
      "text/html": [
       "<div>\n",
       "<style scoped>\n",
       "    .dataframe tbody tr th:only-of-type {\n",
       "        vertical-align: middle;\n",
       "    }\n",
       "\n",
       "    .dataframe tbody tr th {\n",
       "        vertical-align: top;\n",
       "    }\n",
       "\n",
       "    .dataframe thead th {\n",
       "        text-align: right;\n",
       "    }\n",
       "</style>\n",
       "<table border=\"1\" class=\"dataframe\">\n",
       "  <thead>\n",
       "    <tr style=\"text-align: right;\">\n",
       "      <th></th>\n",
       "      <th>id</th>\n",
       "      <th>title</th>\n",
       "      <th>overview</th>\n",
       "      <th>popularity</th>\n",
       "      <th>release_date</th>\n",
       "      <th>vote_average</th>\n",
       "      <th>vote_count</th>\n",
       "    </tr>\n",
       "  </thead>\n",
       "  <tbody>\n",
       "    <tr>\n",
       "      <th>0</th>\n",
       "      <td>168705</td>\n",
       "      <td>BloodRayne</td>\n",
       "      <td>In 18th-century Romania, after spending much o...</td>\n",
       "      <td>17.499</td>\n",
       "      <td>2005-10-22</td>\n",
       "      <td>4.105</td>\n",
       "      <td>501</td>\n",
       "    </tr>\n",
       "    <tr>\n",
       "      <th>1</th>\n",
       "      <td>19766</td>\n",
       "      <td>Inspector Gadget 2</td>\n",
       "      <td>After capturing Claw, all the criminals have g...</td>\n",
       "      <td>20.772</td>\n",
       "      <td>2003-03-11</td>\n",
       "      <td>4.100</td>\n",
       "      <td>342</td>\n",
       "    </tr>\n",
       "    <tr>\n",
       "      <th>2</th>\n",
       "      <td>248705</td>\n",
       "      <td>The Visitors: Bastille Day</td>\n",
       "      <td>Stuck in the corridors of time, Godefroy de Mo...</td>\n",
       "      <td>18.828</td>\n",
       "      <td>2016-03-23</td>\n",
       "      <td>4.090</td>\n",
       "      <td>636</td>\n",
       "    </tr>\n",
       "    <tr>\n",
       "      <th>3</th>\n",
       "      <td>17711</td>\n",
       "      <td>The Adventures of Rocky &amp; Bullwinkle</td>\n",
       "      <td>Rocky and Bullwinkle have been living off the ...</td>\n",
       "      <td>16.436</td>\n",
       "      <td>2000-06-30</td>\n",
       "      <td>4.075</td>\n",
       "      <td>335</td>\n",
       "    </tr>\n",
       "    <tr>\n",
       "      <th>4</th>\n",
       "      <td>580</td>\n",
       "      <td>Jaws: The Revenge</td>\n",
       "      <td>After another deadly shark attack, Ellen Brody...</td>\n",
       "      <td>30.996</td>\n",
       "      <td>1987-07-17</td>\n",
       "      <td>4.064</td>\n",
       "      <td>931</td>\n",
       "    </tr>\n",
       "  </tbody>\n",
       "</table>\n",
       "</div>"
      ],
      "text/plain": [
       "       id                                 title  \\\n",
       "0  168705                            BloodRayne   \n",
       "1   19766                    Inspector Gadget 2   \n",
       "2  248705            The Visitors: Bastille Day   \n",
       "3   17711  The Adventures of Rocky & Bullwinkle   \n",
       "4     580                     Jaws: The Revenge   \n",
       "\n",
       "                                            overview  popularity release_date  \\\n",
       "0  In 18th-century Romania, after spending much o...      17.499   2005-10-22   \n",
       "1  After capturing Claw, all the criminals have g...      20.772   2003-03-11   \n",
       "2  Stuck in the corridors of time, Godefroy de Mo...      18.828   2016-03-23   \n",
       "3  Rocky and Bullwinkle have been living off the ...      16.436   2000-06-30   \n",
       "4  After another deadly shark attack, Ellen Brody...      30.996   1987-07-17   \n",
       "\n",
       "   vote_average  vote_count  \n",
       "0         4.105         501  \n",
       "1         4.100         342  \n",
       "2         4.090         636  \n",
       "3         4.075         335  \n",
       "4         4.064         931  "
      ]
     },
     "execution_count": 3,
     "metadata": {},
     "output_type": "execute_result"
    }
   ],
   "source": [
    "path = 'data/Top_rated_movies1.csv'\n",
    "df= pd.read_csv(path)\n",
    "df.head()"
   ]
  },
  {
   "cell_type": "code",
   "execution_count": 8,
   "metadata": {},
   "outputs": [
    {
     "data": {
      "text/plain": [
       "<bound method NDFrame.describe of           id                                 title  \\\n",
       "0     168705                            BloodRayne   \n",
       "1      19766                    Inspector Gadget 2   \n",
       "2     248705            The Visitors: Bastille Day   \n",
       "3      17711  The Adventures of Rocky & Bullwinkle   \n",
       "4        580                     Jaws: The Revenge   \n",
       "...      ...                                   ...   \n",
       "8826   12142                     Alone in the Dark   \n",
       "8827    5491                     Battlefield Earth   \n",
       "8828   11059                     House of the Dead   \n",
       "8829   14164                  Dragonball Evolution   \n",
       "8830   40016            Birdemic: Shock and Terror   \n",
       "\n",
       "                                               overview  popularity  \\\n",
       "0     In 18th-century Romania, after spending much o...      17.499   \n",
       "1     After capturing Claw, all the criminals have g...      20.772   \n",
       "2     Stuck in the corridors of time, Godefroy de Mo...      18.828   \n",
       "3     Rocky and Bullwinkle have been living off the ...      16.436   \n",
       "4     After another deadly shark attack, Ellen Brody...      30.996   \n",
       "...                                                 ...         ...   \n",
       "8826  Edward Carnby is a private investigator specia...      12.499   \n",
       "8827  In the year 3000, man is no match for the Psyc...      19.133   \n",
       "8828  Set on an island off the coast, a techno rave ...      10.795   \n",
       "8829  On his 18th birthday, Goku receives a mystical...      38.646   \n",
       "8830  A platoon of eagles and vultures attacks the r...      13.853   \n",
       "\n",
       "     release_date  vote_average  vote_count  \n",
       "0      2005-10-22         4.105         501  \n",
       "1      2003-03-11         4.100         342  \n",
       "2      2016-03-23         4.090         636  \n",
       "3      2000-06-30         4.075         335  \n",
       "4      1987-07-17         4.064         931  \n",
       "...           ...           ...         ...  \n",
       "8826   2005-01-28         3.228         550  \n",
       "8827   2000-05-12         3.221         761  \n",
       "8828   2003-04-11         3.100         359  \n",
       "8829   2009-03-12         2.891        1925  \n",
       "8830   2010-02-27         2.106         306  \n",
       "\n",
       "[8831 rows x 7 columns]>"
      ]
     },
     "execution_count": 8,
     "metadata": {},
     "output_type": "execute_result"
    }
   ],
   "source": [
    "df.describe\n"
   ]
  },
  {
   "cell_type": "code",
   "execution_count": null,
   "metadata": {},
   "outputs": [],
   "source": [
    "## python word cloud (isse ) words ka pta kr sakte h kitti har aaya"
   ]
  },
  {
   "cell_type": "code",
   "execution_count": 11,
   "metadata": {},
   "outputs": [
    {
     "data": {
      "text/html": [
       "<div>\n",
       "<style scoped>\n",
       "    .dataframe tbody tr th:only-of-type {\n",
       "        vertical-align: middle;\n",
       "    }\n",
       "\n",
       "    .dataframe tbody tr th {\n",
       "        vertical-align: top;\n",
       "    }\n",
       "\n",
       "    .dataframe thead th {\n",
       "        text-align: right;\n",
       "    }\n",
       "</style>\n",
       "<table border=\"1\" class=\"dataframe\">\n",
       "  <thead>\n",
       "    <tr style=\"text-align: right;\">\n",
       "      <th></th>\n",
       "      <th>id</th>\n",
       "      <th>title</th>\n",
       "      <th>overview</th>\n",
       "      <th>popularity</th>\n",
       "      <th>release_date</th>\n",
       "      <th>vote_average</th>\n",
       "      <th>vote_count</th>\n",
       "    </tr>\n",
       "  </thead>\n",
       "  <tbody>\n",
       "    <tr>\n",
       "      <th>0</th>\n",
       "      <td>168705</td>\n",
       "      <td>BloodRayne</td>\n",
       "      <td>In 18th-century Romania, after spending much o...</td>\n",
       "      <td>17.499</td>\n",
       "      <td>2005-10-22</td>\n",
       "      <td>4.105</td>\n",
       "      <td>501</td>\n",
       "    </tr>\n",
       "    <tr>\n",
       "      <th>1</th>\n",
       "      <td>19766</td>\n",
       "      <td>Inspector Gadget 2</td>\n",
       "      <td>After capturing Claw, all the criminals have g...</td>\n",
       "      <td>20.772</td>\n",
       "      <td>2003-03-11</td>\n",
       "      <td>4.100</td>\n",
       "      <td>342</td>\n",
       "    </tr>\n",
       "    <tr>\n",
       "      <th>2</th>\n",
       "      <td>248705</td>\n",
       "      <td>The Visitors: Bastille Day</td>\n",
       "      <td>Stuck in the corridors of time, Godefroy de Mo...</td>\n",
       "      <td>18.828</td>\n",
       "      <td>2016-03-23</td>\n",
       "      <td>4.090</td>\n",
       "      <td>636</td>\n",
       "    </tr>\n",
       "    <tr>\n",
       "      <th>3</th>\n",
       "      <td>17711</td>\n",
       "      <td>The Adventures of Rocky &amp; Bullwinkle</td>\n",
       "      <td>Rocky and Bullwinkle have been living off the ...</td>\n",
       "      <td>16.436</td>\n",
       "      <td>2000-06-30</td>\n",
       "      <td>4.075</td>\n",
       "      <td>335</td>\n",
       "    </tr>\n",
       "    <tr>\n",
       "      <th>4</th>\n",
       "      <td>580</td>\n",
       "      <td>Jaws: The Revenge</td>\n",
       "      <td>After another deadly shark attack, Ellen Brody...</td>\n",
       "      <td>30.996</td>\n",
       "      <td>1987-07-17</td>\n",
       "      <td>4.064</td>\n",
       "      <td>931</td>\n",
       "    </tr>\n",
       "  </tbody>\n",
       "</table>\n",
       "</div>"
      ],
      "text/plain": [
       "       id                                 title  \\\n",
       "0  168705                            BloodRayne   \n",
       "1   19766                    Inspector Gadget 2   \n",
       "2  248705            The Visitors: Bastille Day   \n",
       "3   17711  The Adventures of Rocky & Bullwinkle   \n",
       "4     580                     Jaws: The Revenge   \n",
       "\n",
       "                                            overview  popularity release_date  \\\n",
       "0  In 18th-century Romania, after spending much o...      17.499   2005-10-22   \n",
       "1  After capturing Claw, all the criminals have g...      20.772   2003-03-11   \n",
       "2  Stuck in the corridors of time, Godefroy de Mo...      18.828   2016-03-23   \n",
       "3  Rocky and Bullwinkle have been living off the ...      16.436   2000-06-30   \n",
       "4  After another deadly shark attack, Ellen Brody...      30.996   1987-07-17   \n",
       "\n",
       "   vote_average  vote_count  \n",
       "0         4.105         501  \n",
       "1         4.100         342  \n",
       "2         4.090         636  \n",
       "3         4.075         335  \n",
       "4         4.064         931  "
      ]
     },
     "execution_count": 11,
     "metadata": {},
     "output_type": "execute_result"
    }
   ],
   "source": [
    "path = 'data/Top_rated_movies1.csv'\n",
    "df= pd.read_csv(path,parse_dates=['release_date'])\n",
    "df.head()"
   ]
  },
  {
   "cell_type": "code",
   "execution_count": 13,
   "metadata": {},
   "outputs": [
    {
     "data": {
      "text/plain": [
       "id              8811\n",
       "title           8514\n",
       "overview        8807\n",
       "popularity      7971\n",
       "release_date    5635\n",
       "vote_average    2922\n",
       "vote_count      3339\n",
       "dtype: int64"
      ]
     },
     "execution_count": 13,
     "metadata": {},
     "output_type": "execute_result"
    }
   ],
   "source": [
    "df.nunique()"
   ]
  },
  {
   "cell_type": "code",
   "execution_count": 15,
   "metadata": {},
   "outputs": [],
   "source": [
    "df.drop(columns='id',inplace=True)"
   ]
  },
  {
   "cell_type": "code",
   "execution_count": 17,
   "metadata": {},
   "outputs": [
    {
     "data": {
      "text/plain": [
       "title\n",
       "Return                  5\n",
       "Pinocchio               4\n",
       "Beauty and the Beast    4\n",
       "Taxi                    4\n",
       "King Kong               3\n",
       "                       ..\n",
       "The Three Musketeers    2\n",
       "The Pink Panther        2\n",
       "Planet of the Apes      2\n",
       "Metropolis              2\n",
       "RoboCop                 2\n",
       "Name: count, Length: 100, dtype: int64"
      ]
     },
     "execution_count": 17,
     "metadata": {},
     "output_type": "execute_result"
    }
   ],
   "source": [
    "df.title.value_counts()[:100]"
   ]
  },
  {
   "cell_type": "code",
   "execution_count": 18,
   "metadata": {},
   "outputs": [
    {
     "data": {
      "text/plain": [
       "title\n",
       "Return                        5\n",
       "Pinocchio                     4\n",
       "Beauty and the Beast          4\n",
       "Taxi                          4\n",
       "King Kong                     3\n",
       "                             ..\n",
       "The Andromeda Strain          1\n",
       "Love Don't Co$t a Thing       1\n",
       "Radio Days                    1\n",
       "The Report                    1\n",
       "Birdemic: Shock and Terror    1\n",
       "Name: count, Length: 8514, dtype: int64"
      ]
     },
     "execution_count": 18,
     "metadata": {},
     "output_type": "execute_result"
    }
   ],
   "source": [
    "df.title.value_counts()"
   ]
  },
  {
   "cell_type": "code",
   "execution_count": null,
   "metadata": {},
   "outputs": [],
   "source": [
    "## best movies , top reated movies,worst movies"
   ]
  }
 ],
 "metadata": {
  "kernelspec": {
   "display_name": "base",
   "language": "python",
   "name": "python3"
  },
  "language_info": {
   "codemirror_mode": {
    "name": "ipython",
    "version": 3
   },
   "file_extension": ".py",
   "mimetype": "text/x-python",
   "name": "python",
   "nbconvert_exporter": "python",
   "pygments_lexer": "ipython3",
   "version": "3.11.4"
  }
 },
 "nbformat": 4,
 "nbformat_minor": 2
}
